{
 "cells": [
  {
   "cell_type": "code",
   "execution_count": 1,
   "metadata": {},
   "outputs": [
    {
     "name": "stdout",
     "output_type": "stream",
     "text": [
      "Connection successful. Returned value: 1\n"
     ]
    }
   ],
   "source": [
    "from neo4j import GraphDatabase\n",
    "\n",
    "uri = \"bolt://localhost:7687\"\n",
    "username = \"neo4j\"\n",
    "password = \"password2\"\n",
    "\n",
    "try:\n",
    "    driver = GraphDatabase.driver(uri, auth=(username, password))\n",
    "    session = driver.session()\n",
    "    result = session.run(\"RETURN 1\")\n",
    "    value = result.single()[0]\n",
    "    print(\"Connection successful. Returned value:\", value)\n",
    "except Exception as e:\n",
    "    print(\"Connection error:\", str(e))"
   ]
  },
  {
   "cell_type": "code",
   "execution_count": 48,
   "metadata": {},
   "outputs": [],
   "source": [
    "# query = \"\"\"\n",
    "# MATCH (r:Recipe)\n",
    "# WHERE r.course = 'One Pot Dish'\n",
    "# SET r.course = 'Main Course'\n",
    "# \"\"\"\n",
    "\n",
    "# with driver.session() as session:\n",
    "#     with session.begin_transaction() as tx:\n",
    "#         tx.run(query)\n"
   ]
  },
  {
   "cell_type": "code",
   "execution_count": 2,
   "metadata": {},
   "outputs": [],
   "source": [
    "#function for retrieving recipes with all ingredients\n",
    "def get_recipes_with_all_ingredients(ingredients_list, course, diet):\n",
    "    query = \"\"\"\n",
    "    MATCH (r:Recipe)\n",
    "    WHERE ALL(ingredientName IN $ingredients_list\n",
    "              WHERE (:Ingredient {name: ingredientName})-[:Ingredient_In]->(r))\n",
    "    AND r.course = $course AND r.diet = $diet\n",
    "    RETURN r.name\n",
    "    \"\"\"\n",
    "    with driver.session() as session:\n",
    "        with session.begin_transaction() as tx:\n",
    "            result = tx.run(query, ingredients_list=ingredients_list, course=course, diet=diet)\n",
    "            return [record[\"r.name\"] for record in result]"
   ]
  },
  {
   "cell_type": "code",
   "execution_count": 3,
   "metadata": {},
   "outputs": [],
   "source": [
    "#function to get weight of each ingredient  in the ingredient list\n",
    "def get_ingredient_weight(ingredients_list):\n",
    "    query = \"\"\"\n",
    "    MATCH (i:Ingredient)\n",
    "    WHERE i.name IN $ingredients_list\n",
    "    RETURN i.name, i.weight\n",
    "    \"\"\"\n",
    "    with driver.session() as session:\n",
    "        with session.begin_transaction() as tx:\n",
    "            result = tx.run(query, ingredients_list=ingredients_list)\n",
    "            ingre_with_weight = {}\n",
    "            for record in result:\n",
    "                ingre_with_weight[record[\"i.name\"]] = record[\"i.weight\"]\n",
    "            return ingre_with_weight"
   ]
  },
  {
   "cell_type": "code",
   "execution_count": 4,
   "metadata": {},
   "outputs": [],
   "source": [
    "#function to get rating of a recipe\n",
    "def get_recipe_rating(recipe_name):\n",
    "    query = \"\"\"\n",
    "    MATCH (r:Recipe {name: $recipe_name})\n",
    "    RETURN r.rating\n",
    "    \"\"\"\n",
    "    with driver.session() as session:\n",
    "        with session.begin_transaction() as tx:\n",
    "            result = tx.run(query, recipe_name=recipe_name)\n",
    "            return result.single()[0]"
   ]
  },
  {
   "cell_type": "code",
   "execution_count": 5,
   "metadata": {},
   "outputs": [],
   "source": [
    "#function to get URL of recipe\n",
    "def get_recipe_url(recipe_name):\n",
    "    query = \"\"\"\n",
    "    MATCH (r:Recipe {name: $recipe_name})\n",
    "    RETURN r.url\n",
    "    \"\"\"\n",
    "\n",
    "    with driver.session() as session:\n",
    "        with session.begin_transaction() as tx:\n",
    "            result = tx.run(query, recipe_name=recipe_name)\n",
    "            return result.single()[0]\n",
    "        "
   ]
  },
  {
   "cell_type": "code",
   "execution_count": 6,
   "metadata": {},
   "outputs": [],
   "source": [
    "#function to get all ingredients in a recipe\n",
    "def get_ingredients_in_recipe(recipe_name):\n",
    "    query = \"\"\"\n",
    "    MATCH (i:Ingredient)-[:Ingredient_In]->(r:Recipe {name: $recipe_name})\n",
    "    RETURN i.name\n",
    "    \"\"\"\n",
    "    with driver.session() as session:\n",
    "        with session.begin_transaction() as tx:\n",
    "            result = tx.run(query, recipe_name=recipe_name)\n",
    "            return [record[\"i.name\"] for record in result]"
   ]
  },
  {
   "cell_type": "code",
   "execution_count": 7,
   "metadata": {},
   "outputs": [],
   "source": [
    "#Function to write cypher query to total weight of ingredients in the recipe\n",
    "def get_total_weight_of_ingredients(ingredients_list):\n",
    "    query = \"\"\"\n",
    "    MATCH (i:Ingredient)\n",
    "    WHERE i.name IN $ingredients_list\n",
    "    RETURN sum(i.weight)\n",
    "    \"\"\"\n",
    "    with driver.session() as session:\n",
    "        with session.begin_transaction() as tx:\n",
    "            result = tx.run(query, ingredients_list=ingredients_list)\n",
    "            return result.single()[0]"
   ]
  },
  {
   "cell_type": "code",
   "execution_count": 34,
   "metadata": {},
   "outputs": [],
   "source": [
    "#Function to write cypher query to get cook_time of recipe\n",
    "def get_cook_time_of_recipe(recipe_name):\n",
    "    query = \"\"\"\n",
    "    MATCH (r:Recipe {name: $recipe_name})\n",
    "    RETURN r.cooktime\n",
    "    \"\"\"\n",
    "    with driver.session() as session:\n",
    "        with session.begin_transaction() as tx:\n",
    "            result = tx.run(query, recipe_name=recipe_name)\n",
    "            return result.single()[0]\n",
    "        "
   ]
  },
  {
   "cell_type": "code",
   "execution_count": 9,
   "metadata": {},
   "outputs": [],
   "source": [
    "#get nutrients and servings of recipe \n",
    "def get_nutrients(recipe_name):\n",
    "    query = \"\"\"\n",
    "    MATCH (r:Recipe {name: $recipe_name})\n",
    "    RETURN r.nutrients\n",
    "    \"\"\"\n",
    "\n",
    "    with driver.session() as session:\n",
    "        with session.begin_transaction() as tx:\n",
    "            result = tx.run(query, recipe_name=recipe_name)\n",
    "            return result.single()[0]"
   ]
  },
  {
   "cell_type": "code",
   "execution_count": 30,
   "metadata": {},
   "outputs": [],
   "source": [
    "#Function to get dishspecific ingredients\n",
    "def get_dish_specific_ingredients(recipe_name):\n",
    "    query = \"\"\"\n",
    "    MATCH (r:Recipe {name: $recipe_name})\n",
    "    RETURN r.dish_specific\n",
    "    \"\"\"\n",
    "    with driver.session() as session:\n",
    "        with session.begin_transaction() as tx:\n",
    "            result = tx.run(query, recipe_name=recipe_name)\n",
    "            return result.single()[0]"
   ]
  },
  {
   "cell_type": "code",
   "execution_count": 35,
   "metadata": {},
   "outputs": [],
   "source": [
    "#Function to get served_with recipes for a recipe\n",
    "def get_served_with(recipe_name):\n",
    "    query = \"\"\"\n",
    "    MATCH (r:Recipe {name: $recipe_name})-[:Served_With]->(r2:Recipe)\n",
    "    RETURN r2.name\n",
    "    \"\"\"\n",
    "    with driver.session() as session:\n",
    "        with session.begin_transaction() as tx:\n",
    "            result = tx.run(query, recipe_name=recipe_name)\n",
    "            return [record[\"r2.name\"] for record in result]"
   ]
  },
  {
   "cell_type": "code",
   "execution_count": 43,
   "metadata": {},
   "outputs": [],
   "source": [
    "#get the top 5 recipe which have more incoming edges in given list of recipes\n",
    "def get_top_5_recipes(recipes_list):\n",
    "    query = \"\"\"\n",
    "    MATCH (r1:Recipe)-[i:Served_With]->(r2:Recipe)\n",
    "    WHERE r2.name IN $recipes_list\n",
    "    RETURN r2.name, count(i) as count\n",
    "    ORDER BY count DESC\n",
    "    LIMIT 5\n",
    "    \"\"\"\n",
    "    with driver.session() as session:\n",
    "        with session.begin_transaction() as tx:\n",
    "            result = tx.run(query, recipes_list=recipes_list)\n",
    "            return [record[\"r2.name\"] for record in result]"
   ]
  },
  {
   "cell_type": "code",
   "execution_count": 10,
   "metadata": {},
   "outputs": [],
   "source": [
    "#function to extract until alphabet\n",
    "def extract_until_alphabet(s):\n",
    "    extracted = \"\"\n",
    "    for char in s:\n",
    "        if char.isalpha():\n",
    "            break\n",
    "        extracted += char\n",
    "    return float(extracted)"
   ]
  },
  {
   "cell_type": "code",
   "execution_count": 11,
   "metadata": {},
   "outputs": [],
   "source": [
    "weight_gain_weights = {\n",
    "    'calories': 0.25,\n",
    "    'total_fat': 0.15,\n",
    "    'saturated_fat': 0.1,\n",
    "    'fiber': 0.05,\n",
    "    'carbohydrate': 0.2,\n",
    "    'protein': 0.2,\n",
    "    'sugar': 0.05,\n",
    "}\n",
    "weight_loss_weights = {\n",
    "    'calories': 0.1,\n",
    "    'total_fat': 0.1,\n",
    "    'saturated_fat': 0.05,\n",
    "    'fiber': 0.25,\n",
    "    'carbohydrate': 0.2,\n",
    "    'protein': 0.2,\n",
    "    'sugar': 0.1,\n",
    "}\n",
    "balanced_diet_weights = {\n",
    "    'calories': 0.15,\n",
    "    'total_fat': 0.15,\n",
    "    'saturated_fat': 0.1,\n",
    "    'fiber': 0.15,\n",
    "    'carbohydrate': 0.2,\n",
    "    'protein': 0.2,\n",
    "    'sugar': 0.05,\n",
    "}\n",
    "import ast\n",
    "# calculate the gain weight max score from all the recipes\n",
    "maxb=1.5142857142857142\n",
    "maxg=2.378571428571429\n",
    "def weight_gain(nutrients):\n",
    "    score=0.0\n",
    "    # print(df1['Nutrients'][index]['calories'])\n",
    "    try:\n",
    "        for key,value in weight_gain_weights.items():\n",
    "            # print(key)\n",
    "            score+=value*(extract_until_alphabet(ast.literal_eval(nutrients)[key]))\n",
    "        score/=extract_until_alphabet(ast.literal_eval(nutrients)['serving_size'])\n",
    "        score=score/maxg\n",
    "        return score\n",
    "        # if score>max:\n",
    "        #     max=score\n",
    "        #     recipe=data\n",
    "    except:\n",
    "        pass\n",
    "    \n",
    "def weight_loss(nutrients):\n",
    "    \n",
    "    score=0.0\n",
    "# print(df1['Nutrients'][index]['calories'])\n",
    "    try:\n",
    "        for key,value in weight_loss_weights.items():\n",
    "            # print(key)\n",
    "            score+=value*(extract_until_alphabet(ast.literal_eval(nutrients)[key]))\n",
    "        score/=extract_until_alphabet(ast.literal_eval(nutrients)['serving_size'])\n",
    "        return score\n",
    "        # print(score)\n",
    "        # if score>max:\n",
    "        #     max=score\n",
    "        #     recipe=data\n",
    "    except:\n",
    "        pass\n",
    "def balanced_diet(nutrients):\n",
    "   \n",
    "    score=0.0\n",
    "# print(df1['Nutrients'][index]['calories'])\n",
    "    try:\n",
    "        for key,value in balanced_diet_weights.items():\n",
    "            # print(key)\n",
    "            score+=value*(extract_until_alphabet(ast.literal_eval(nutrients)[key]))\n",
    "        score/=extract_until_alphabet(ast.literal_eval(nutrients)['serving_size'])\n",
    "        score=score/maxb\n",
    "        return score\n",
    "        # print(score)\n",
    "        # if score>max:\n",
    "        #     max=score\n",
    "        #     recipe=data\n",
    "    except:\n",
    "        pass"
   ]
  },
  {
   "cell_type": "code",
   "execution_count": 12,
   "metadata": {},
   "outputs": [],
   "source": [
    "#function to stem the list of words\n",
    "from nltk.stem import PorterStemmer\n",
    "def stem_list(list1):\n",
    "    ps = PorterStemmer()\n",
    "    stemmed_list = []\n",
    "    for i in list1:\n",
    "        stemmed_list.append(ps.stem(i))\n",
    "    return stemmed_list\n",
    "\n"
   ]
  },
  {
   "cell_type": "code",
   "execution_count": 13,
   "metadata": {},
   "outputs": [],
   "source": [
    "import itertools\n",
    "#combinations of a list elements with random 75% of elements of original list \n",
    "def get_combinations_75(list1):\n",
    "    list1_75_combinations = []\n",
    "    for i in range(int(len(list1)*0.75), len(list1)):\n",
    "        list1_75_combinations.extend(list(itertools.combinations(list1, i)))\n",
    "    return list1_75_combinations\n",
    "\n",
    "#combinations of a list elements with random 50% of elements of original list\n",
    "def get_combinations_50(list1):\n",
    "    # list1_50 = list1[:int(len(list1)*0.5)]\n",
    "    list1_50_combinations = []\n",
    "    for i in range(int(len(list1)*0.5) , int(len(list1)*0.75)):\n",
    "        list1_50_combinations.extend(list(itertools.combinations(list1, i)))\n",
    "    return list1_50_combinations"
   ]
  },
  {
   "cell_type": "code",
   "execution_count": 14,
   "metadata": {},
   "outputs": [],
   "source": [
    "def get_recipes_with_ingredients_combinations_v3(ingredients_list, course, diet):\n",
    "    total_recipe_list = []\n",
    "    total_recipe_dict = dict()\n",
    "    result1 = get_recipes_with_all_ingredients(ingredients_list, course, diet)\n",
    "    total_recipe_list.extend(result1)\n",
    "    for recipe in result1:\n",
    "        total_recipe_dict[recipe] = 0.5\n",
    "\n",
    "    combinations_75 = get_combinations_75(ingredients_list)\n",
    "    for combination in combinations_75:\n",
    "        result2 = get_recipes_with_all_ingredients(combination, course, diet)\n",
    "        for recipe in result2:\n",
    "            if recipe not in total_recipe_dict:\n",
    "                ingre = get_ingredients_in_recipe(recipe)\n",
    "                final_idf = get_total_weight_of_ingredients(ingre)/len(ingre)\n",
    "                total_recipe_dict[recipe] = 0.375 * final_idf\n",
    "                total_recipe_list.append(recipe)\n",
    "\n",
    "    combinations_50 = get_combinations_50(ingredients_list)\n",
    "    for combination in combinations_50:\n",
    "        result3 = get_recipes_with_all_ingredients(combination, course, diet)\n",
    "        for recipe in result3:\n",
    "            if recipe not in total_recipe_dict:\n",
    "                ingre = get_ingredients_in_recipe(recipe)\n",
    "                final_idf = get_total_weight_of_ingredients(ingre)/len(ingre)\n",
    "                total_recipe_dict[recipe] = 0.25 * final_idf\n",
    "                total_recipe_list.append(recipe)\n",
    "\n",
    "    return total_recipe_list, total_recipe_dict"
   ]
  },
  {
   "cell_type": "code",
   "execution_count": 26,
   "metadata": {},
   "outputs": [
    {
     "data": {
      "text/plain": [
       "{'Paneer Butter Masala Recipe': 0.5,\n",
       " 'Layered Paneer Butter Masala Biryani Recipe': 0.14586841826114608,\n",
       " 'Paneer Peshawari Recipe - Cottage Cheese In Rich Gravy': 0.13719695100067902,\n",
       " 'Mixed Vegetable Handi Recipe': 0.13334985370681351,\n",
       " 'Baby Corn Butter Masala Recipe': 0.1313520214671124,\n",
       " 'Dry Navratan Korma Recipe': 0.13084232529109643,\n",
       " ' Paneer Makhani (Recipe In Hindi)': 0.1193631963132564,\n",
       " 'Veg Makhanwala Recipe - North Indian Mixed Vegetables Gravy': 0.10742773519601138,\n",
       " 'Mini Dal Samosa Curry / Sabzi Recipe': 0.10376934337053918,\n",
       " 'Sweet and Spicy Pineapple Paneer Tikka Tawa Pizza Recipe': 0.09696278992882097,\n",
       " 'Kaju Butter Masala Recipe': 0.09546479357180666,\n",
       " 'Matar Paneer Kachori Korma Recipe - Green Peas And Paneer Kachori Curry': 0.09438026325362926,\n",
       " 'Hyderabadi Shahi Mixed Vegetable Curry Recipe': 0.09429942275419602,\n",
       " 'Shahi Bhindi Recipe in Cashew Nut Gravy - Okras in Cashew Nut Curry': 0.09249971550446508,\n",
       " 'Reshmi Kofta Recipe in Rich Cashew Gravy': 0.09146333021549015,\n",
       " 'Shahi Tindora Recipe - Tindora In Cashew Nut Gravy': 0.09014213125098879,\n",
       " 'Dal Bukhara Recipe (Punjabi Style Black Urad Dal)': 0.08823416872790507,\n",
       " 'Aloo Matar Paneer Curry Recipe': 0.08679857026847283,\n",
       " 'Mughlai Aloo Great Recipe - Mughlai Aloo Sabzi Recipe': 0.08469830776022773,\n",
       " 'Jain Style Corn Palak Recipe': 0.08466720467349176,\n",
       " 'Stuffed Capsicum Makhani Recipe': 0.07890800351155312}"
      ]
     },
     "execution_count": 26,
     "metadata": {},
     "output_type": "execute_result"
    }
   ],
   "source": [
    "ingredient_list = ['garam masala powd', 'paneer','fresh cream', 'butter', 'cashew nut', 'gram pan', 'cumin powd', 'kasuri methi']\n",
    "course = \"Main Course\"\n",
    "diet = \"Vegetarian\"\n",
    "\n",
    "retreived_recipes_list, retreived_recipes_dict  = get_recipes_with_ingredients_combinations_v3(ingredient_list, course, diet)\n",
    "#sort retrived_recipes_dict in descending order of values\n",
    "sorted_ret_rec_dict = dict(sorted(retreived_recipes_dict.items(), key=lambda item: item[1], reverse=True))\n",
    "sorted_ret_rec_dict"
   ]
  },
  {
   "cell_type": "code",
   "execution_count": 27,
   "metadata": {},
   "outputs": [
    {
     "name": "stdout",
     "output_type": "stream",
     "text": [
      "Paneer Butter Masala Recipe 0.5 0 0.0 0.5\n",
      "Layered Paneer Butter Masala Biryani Recipe 0.14586841826114608 4.9231511254019 0.19692604501607602 0.3427944632772221\n",
      "Paneer Peshawari Recipe - Cottage Cheese In Rich Gravy 0.13719695100067902 4.9288664525011 0.197154658100044 0.33435160910072304\n",
      "Mixed Vegetable Handi Recipe 0.13334985370681351 4.787542662116 0.19150170648464004 0.32485156019145356\n",
      "Baby Corn Butter Masala Recipe 0.1313520214671124 4.8670172802404 0.19468069120961604 0.3260327126767284\n",
      "Dry Navratan Korma Recipe 0.13084232529109643 4.9078498293515 0.19631399317406 0.32715631846515647\n",
      " Paneer Makhani (Recipe In Hindi) 0.1193631963132564 0 0.0 0.1193631963132564\n",
      "Veg Makhanwala Recipe - North Indian Mixed Vegetables Gravy 0.10742773519601138 4.8945929356621 0.195783717426484 0.3032114526224954\n",
      "Mini Dal Samosa Curry / Sabzi Recipe 0.10376934337053918 0 0.0 0.10376934337053918\n",
      "Sweet and Spicy Pineapple Paneer Tikka Tawa Pizza Recipe 0.09696278992882097 4.9096385542169 0.196385542168676 0.293348332097497\n",
      "Kaju Butter Masala Recipe 0.09546479357180666 4.9183979438852 0.196735917755408 0.29220071132721465\n",
      "Matar Paneer Kachori Korma Recipe - Green Peas And Paneer Kachori Curry 0.09438026325362926 0 0.0 0.09438026325362926\n",
      "Hyderabadi Shahi Mixed Vegetable Curry Recipe 0.09429942275419602 4.905798816568 0.19623195266272 0.29053137541691604\n",
      "Shahi Bhindi Recipe in Cashew Nut Gravy - Okras in Cashew Nut Curry 0.09249971550446508 4.9054752066116 0.196219008264464 0.2887187237689291\n",
      "Reshmi Kofta Recipe in Rich Cashew Gravy 0.09146333021549015 4.7710027100271 0.190840108401084 0.28230343861657414\n",
      "Shahi Tindora Recipe - Tindora In Cashew Nut Gravy 0.09014213125098879 0 0.0 0.09014213125098879\n",
      "Dal Bukhara Recipe (Punjabi Style Black Urad Dal) 0.08823416872790507 4.8580843585237 0.19432337434094804 0.2825575430688531\n",
      "Aloo Matar Paneer Curry Recipe 0.08679857026847283 0 0.0 0.08679857026847283\n",
      "Mughlai Aloo Great Recipe - Mughlai Aloo Sabzi Recipe 0.08469830776022773 0 0.0 0.08469830776022773\n",
      "Jain Style Corn Palak Recipe 0.08466720467349176 4.913612565445 0.1965445026178 0.28121170729129175\n",
      "Stuffed Capsicum Makhani Recipe 0.07890800351155312 4.9178421182876 0.19671368473150402 0.27562168824305716\n"
     ]
    },
    {
     "data": {
      "text/plain": [
       "{'Paneer Butter Masala Recipe': 0.5,\n",
       " 'Layered Paneer Butter Masala Biryani Recipe': 0.3427944632772221,\n",
       " 'Paneer Peshawari Recipe - Cottage Cheese In Rich Gravy': 0.33435160910072304,\n",
       " 'Dry Navratan Korma Recipe': 0.32715631846515647,\n",
       " 'Baby Corn Butter Masala Recipe': 0.3260327126767284,\n",
       " 'Mixed Vegetable Handi Recipe': 0.32485156019145356,\n",
       " 'Veg Makhanwala Recipe - North Indian Mixed Vegetables Gravy': 0.3032114526224954,\n",
       " 'Sweet and Spicy Pineapple Paneer Tikka Tawa Pizza Recipe': 0.293348332097497,\n",
       " 'Kaju Butter Masala Recipe': 0.29220071132721465,\n",
       " 'Hyderabadi Shahi Mixed Vegetable Curry Recipe': 0.29053137541691604,\n",
       " 'Shahi Bhindi Recipe in Cashew Nut Gravy - Okras in Cashew Nut Curry': 0.2887187237689291,\n",
       " 'Dal Bukhara Recipe (Punjabi Style Black Urad Dal)': 0.2825575430688531,\n",
       " 'Reshmi Kofta Recipe in Rich Cashew Gravy': 0.28230343861657414,\n",
       " 'Jain Style Corn Palak Recipe': 0.28121170729129175,\n",
       " 'Stuffed Capsicum Makhani Recipe': 0.27562168824305716,\n",
       " ' Paneer Makhani (Recipe In Hindi)': 0.1193631963132564,\n",
       " 'Mini Dal Samosa Curry / Sabzi Recipe': 0.10376934337053918,\n",
       " 'Matar Paneer Kachori Korma Recipe - Green Peas And Paneer Kachori Curry': 0.09438026325362926,\n",
       " 'Shahi Tindora Recipe - Tindora In Cashew Nut Gravy': 0.09014213125098879,\n",
       " 'Aloo Matar Paneer Curry Recipe': 0.08679857026847283,\n",
       " 'Mughlai Aloo Great Recipe - Mughlai Aloo Sabzi Recipe': 0.08469830776022773}"
      ]
     },
     "execution_count": 27,
     "metadata": {},
     "output_type": "execute_result"
    }
   ],
   "source": [
    "import math\n",
    "for recipe in sorted_ret_rec_dict:\n",
    "    rating = get_recipe_rating(recipe)\n",
    "    if math.isnan(rating):\n",
    "        rating = 0\n",
    "    new_value = (rating/5) * 0.2\n",
    "    print(recipe, sorted_ret_rec_dict[recipe], rating ,new_value, new_value + sorted_ret_rec_dict[recipe]) \n",
    "    sorted_ret_rec_dict[recipe] = new_value + sorted_ret_rec_dict[recipe]\n",
    "sorted_ret_rec_dict = dict(sorted(sorted_ret_rec_dict.items(), key=lambda item:item[1], reverse=True))\n",
    "sorted_ret_rec_dict"
   ]
  },
  {
   "cell_type": "code",
   "execution_count": 28,
   "metadata": {},
   "outputs": [
    {
     "data": {
      "text/plain": [
       "{'Paneer Butter Masala Recipe': 0.5245740423098914,\n",
       " 'Shahi Bhindi Recipe in Cashew Nut Gravy - Okras in Cashew Nut Curry': 0.42338853508968377,\n",
       " 'Dry Navratan Korma Recipe': 0.36910994713967,\n",
       " 'Layered Paneer Butter Masala Biryani Recipe': 0.3673685055871134,\n",
       " 'Baby Corn Butter Masala Recipe': 0.3622076340603762,\n",
       " 'Paneer Peshawari Recipe - Cottage Cheese In Rich Gravy': 0.3587673958412458,\n",
       " 'Sweet and Spicy Pineapple Paneer Tikka Tawa Pizza Recipe': 0.3527333775202783,\n",
       " 'Mixed Vegetable Handi Recipe': 0.3489258158694828,\n",
       " 'Veg Makhanwala Recipe - North Indian Mixed Vegetables Gravy': 0.3213899722161093,\n",
       " 'Kaju Butter Masala Recipe': 0.316774753637106,\n",
       " 'Dal Bukhara Recipe (Punjabi Style Black Urad Dal)': 0.3165437745833865,\n",
       " 'Hyderabadi Shahi Mixed Vegetable Curry Recipe': 0.31534159919927673,\n",
       " 'Stuffed Capsicum Makhani Recipe': 0.31360047195023993,\n",
       " 'Reshmi Kofta Recipe in Rich Cashew Gravy': 0.307420038150176,\n",
       " 'Jain Style Corn Palak Recipe': 0.2998698690980385,\n",
       " 'Shahi Tindora Recipe - Tindora In Cashew Nut Gravy': 0.22481194257174347,\n",
       " 'Mini Dal Samosa Curry / Sabzi Recipe': 0.1472437137649031,\n",
       " 'Matar Paneer Kachori Korma Recipe - Green Peas And Paneer Kachori Curry': 0.13049089790199975,\n",
       " 'Aloo Matar Paneer Curry Recipe': 0.12290920491684332,\n",
       " ' Paneer Makhani (Recipe In Hindi)': 0.1193631963132564,\n",
       " 'Mughlai Aloo Great Recipe - Mughlai Aloo Sabzi Recipe': 0.10816646813758622}"
      ]
     },
     "execution_count": 28,
     "metadata": {},
     "output_type": "execute_result"
    }
   ],
   "source": [
    "for recipe in sorted_ret_rec_dict:\n",
    "    nutrients = get_nutrients(recipe)\n",
    "    n_score = balanced_diet(nutrients)\n",
    "    # print(n_score)\n",
    "    # print(sorted_ret_rec_dict[recipe])\n",
    "    if n_score is None:\n",
    "        n_score = 0.0\n",
    "    final_score = n_score * 0.2 + sorted_ret_rec_dict[recipe]\n",
    "    sorted_ret_rec_dict[recipe] = final_score\n",
    "\n",
    "sorted_ret_rec_dict = dict(sorted(sorted_ret_rec_dict.items(), key = lambda item:item[1], reverse=True))\n",
    "sorted_ret_rec_dict"
   ]
  },
  {
   "cell_type": "code",
   "execution_count": 29,
   "metadata": {},
   "outputs": [
    {
     "data": {
      "text/plain": [
       "{'Paneer Butter Masala Recipe': 0.5290184867543358,\n",
       " 'Shahi Bhindi Recipe in Cashew Nut Gravy - Okras in Cashew Nut Curry': 0.4278329795341282,\n",
       " 'Dry Navratan Korma Recipe': 0.37133216936189223,\n",
       " 'Layered Paneer Butter Masala Biryani Recipe': 0.3701462833648912,\n",
       " 'Baby Corn Butter Masala Recipe': 0.36554096739370956,\n",
       " 'Paneer Peshawari Recipe - Cottage Cheese In Rich Gravy': 0.36210072917457914,\n",
       " 'Sweet and Spicy Pineapple Paneer Tikka Tawa Pizza Recipe': 0.35662226640916717,\n",
       " 'Mixed Vegetable Handi Recipe': 0.35170359364726056,\n",
       " 'Veg Makhanwala Recipe - North Indian Mixed Vegetables Gravy': 0.3247233055494427,\n",
       " 'Dal Bukhara Recipe (Punjabi Style Black Urad Dal)': 0.32321044125005316,\n",
       " 'Hyderabadi Shahi Mixed Vegetable Curry Recipe': 0.31978604364372115,\n",
       " 'Kaju Butter Masala Recipe': 0.31899697585932824,\n",
       " 'Stuffed Capsicum Makhani Recipe': 0.3169338052835733,\n",
       " 'Reshmi Kofta Recipe in Rich Cashew Gravy': 0.31408670481684264,\n",
       " 'Jain Style Corn Palak Recipe': 0.30264764687581625,\n",
       " 'Shahi Tindora Recipe - Tindora In Cashew Nut Gravy': 0.22981194257174348,\n",
       " 'Mini Dal Samosa Curry / Sabzi Recipe': 0.15057704709823644,\n",
       " 'Matar Paneer Kachori Korma Recipe - Green Peas And Paneer Kachori Curry': 0.13382423123533307,\n",
       " 'Aloo Matar Paneer Curry Recipe': 0.12790920491684332,\n",
       " ' Paneer Makhani (Recipe In Hindi)': 0.12214097409103418,\n",
       " 'Mughlai Aloo Great Recipe - Mughlai Aloo Sabzi Recipe': 0.11149980147091955}"
      ]
     },
     "execution_count": 29,
     "metadata": {},
     "output_type": "execute_result"
    }
   ],
   "source": [
    "for key in sorted_ret_rec_dict.keys():\n",
    "     cook_time = get_cook_time_of_recipe(key)\n",
    "     t_score = 0.1 * cook_time / 900\n",
    "\n",
    "     sorted_ret_rec_dict[key] = sorted_ret_rec_dict[key] + t_score\n",
    "sorted_ret_rec_dict = dict(sorted(sorted_ret_rec_dict.items(), key = lambda item:item[1], reverse=True))\n",
    "sorted_ret_rec_dict\n"
   ]
  },
  {
   "cell_type": "code",
   "execution_count": 33,
   "metadata": {},
   "outputs": [
    {
     "data": {
      "text/plain": [
       "{'Paneer Butter Masala Recipe': 0.5290184867543358,\n",
       " 'Dry Navratan Korma Recipe': 0.37133216936189223,\n",
       " 'Layered Paneer Butter Masala Biryani Recipe': 0.3701462833648912,\n",
       " 'Paneer Peshawari Recipe - Cottage Cheese In Rich Gravy': 0.36210072917457914,\n",
       " 'Mixed Vegetable Handi Recipe': 0.35170359364726056,\n",
       " 'Veg Makhanwala Recipe - North Indian Mixed Vegetables Gravy': 0.3247233055494427,\n",
       " 'Hyderabadi Shahi Mixed Vegetable Curry Recipe': 0.31978604364372115,\n",
       " 'Kaju Butter Masala Recipe': 0.31899697585932824,\n",
       " 'Stuffed Capsicum Makhani Recipe': 0.3169338052835733,\n",
       " 'Reshmi Kofta Recipe in Rich Cashew Gravy': 0.31408670481684264,\n",
       " 'Jain Style Corn Palak Recipe': 0.30264764687581625,\n",
       " 'Mini Dal Samosa Curry / Sabzi Recipe': 0.15057704709823644,\n",
       " 'Aloo Matar Paneer Curry Recipe': 0.12790920491684332,\n",
       " ' Paneer Makhani (Recipe In Hindi)': 0.12214097409103418,\n",
       " 'Mughlai Aloo Great Recipe - Mughlai Aloo Sabzi Recipe': 0.11149980147091955}"
      ]
     },
     "execution_count": 33,
     "metadata": {},
     "output_type": "execute_result"
    }
   ],
   "source": [
    "recipes_to_be_removed = []\n",
    "for recipe in sorted_ret_rec_dict:\n",
    "\n",
    "    dish_specific_ingre = get_dish_specific_ingredients(recipe)\n",
    "    count = 0\n",
    "    for ingre in dish_specific_ingre:\n",
    "        if ingre in ingredient_list:\n",
    "            count += 1\n",
    "    if count != len(dish_specific_ingre):\n",
    "        recipes_to_be_removed.append(recipe)\n",
    "\n",
    "for recipe in recipes_to_be_removed:\n",
    "    sorted_ret_rec_dict.pop(recipe)\n",
    "sorted_ret_rec_dict"
   ]
  },
  {
   "cell_type": "code",
   "execution_count": null,
   "metadata": {},
   "outputs": [],
   "source": []
  },
  {
   "cell_type": "code",
   "execution_count": null,
   "metadata": {},
   "outputs": [],
   "source": []
  },
  {
   "cell_type": "code",
   "execution_count": 45,
   "metadata": {},
   "outputs": [],
   "source": [
    "def RRS(ingredient_list, diet_type, course, diet):\n",
    "    ingredient_list = stem_list(ingredient_list)\n",
    "    retreived_recipes_list, retreived_recipes_dict  = get_recipes_with_ingredients_combinations_v3(ingredient_list, course, diet)\n",
    "    \n",
    "    #updating with rating score\n",
    "    for recipe in retreived_recipes_dict:\n",
    "        rating = get_recipe_rating(recipe)\n",
    "        if math.isnan(rating):\n",
    "            rating = 0\n",
    "        new_value = (rating/5) * 0.2\n",
    "        retreived_recipes_dict[recipe] = new_value + retreived_recipes_dict[recipe]\n",
    "\n",
    "    #updating with nutrition score\n",
    "    for recipe in retreived_recipes_dict:\n",
    "        nutrients = get_nutrients(recipe)\n",
    "\n",
    "        if diet_type == 3:\n",
    "            n_score = balanced_diet(nutrients)\n",
    "        elif diet_type == 2:\n",
    "            n_score = weight_loss(nutrients)\n",
    "        elif diet_type == 1:\n",
    "            n_score = weight_gain(nutrients)\n",
    "        else:\n",
    "            n_score = None\n",
    "        \n",
    "        if n_score is None:\n",
    "            n_score = 0.0\n",
    "        final_score = n_score * 0.2 + retreived_recipes_dict[recipe]\n",
    "        retreived_recipes_dict[recipe] = final_score\n",
    "\n",
    "    #updating with time score\n",
    "    for recipe in retreived_recipes_dict:\n",
    "        cook_time = get_cook_time_of_recipe(recipe)\n",
    "        t_score = 0.1 * cook_time / 900\n",
    "\n",
    "        retreived_recipes_dict[recipe] = retreived_recipes_dict[recipe] + t_score\n",
    "\n",
    "    #removing recipes which are not dish specific\n",
    "    recipes_to_be_removed = []\n",
    "    for recipe in retreived_recipes_dict:\n",
    "            \n",
    "            dish_specific_ingre = get_dish_specific_ingredients(recipe)\n",
    "            count = 0\n",
    "            for ingre in dish_specific_ingre:\n",
    "                if ingre in ingredient_list:\n",
    "                    count += 1\n",
    "            if count != len(dish_specific_ingre):\n",
    "                recipes_to_be_removed.append(recipe)\n",
    "\n",
    "    for recipe in recipes_to_be_removed:\n",
    "        retreived_recipes_dict.pop(recipe)\n",
    "\n",
    "    #sorting the dictionary\n",
    "    sorted_ret_rec_dict = dict(sorted(retreived_recipes_dict.items(), key = lambda item:item[1], reverse=True))\n",
    "    #top 5 recipes\n",
    "    Recipes_dict = dict.fromkeys(list(sorted_ret_rec_dict.keys())[:5], [])\n",
    "    for recipe in Recipes_dict:\n",
    "        value_list = []\n",
    "        value_list.append(get_recipe_url(recipe))\n",
    "        served_with_recipes = get_served_with(recipe)\n",
    "        top_5_recipes = get_top_5_recipes(served_with_recipes)\n",
    "        value_list.append(top_5_recipes)\n",
    "        Recipes_dict[recipe] = value_list\n",
    "\n",
    "    return Recipes_dict\n",
    "        \n"
   ]
  },
  {
   "cell_type": "markdown",
   "metadata": {},
   "source": [
    "***************"
   ]
  },
  {
   "cell_type": "markdown",
   "metadata": {},
   "source": [
    "# RESULT"
   ]
  },
  {
   "cell_type": "code",
   "execution_count": 49,
   "metadata": {},
   "outputs": [
    {
     "name": "stdout",
     "output_type": "stream",
     "text": [
      "1 : Paneer Butter Masala Recipe https://www.archanaskitchen.com/paneer-butter-masala-recipe\n",
      "Can be served with: \n",
      "Nawabi Tawa Paratha Recipe\n",
      "Tawa Paratha Recipe - Plain Paratha\n",
      "Butter Garlic Naan Recipe - Garlic Flavoured Flatbread\n",
      "Whole Wheat Methi Garlic Naan Recipe  | Oven Method with yeast\n",
      "Jowar Garlic Naan Recipe- Healthy Sorghum Naan\n",
      "2 : Veg Makhanwala Recipe - North Indian Mixed Vegetables Gravy http://www.archanaskitchen.com/veg-makhanwala-recipe-north-indian-mixed-vegetables-gravy\n",
      "Can be served with: \n",
      "Malai Matar Paneer Recipe (Cottage Cheese & Peas In Rich Creamy Gravy)\n",
      "Vegan Baingan Makhani Recipe (Eggplant In Rich Coconut Gravy)\n",
      "Kerala Style Rich Creamy Egg Cashew Curry Recipe\n",
      "Baingan Musallam Recipe (Mughlai Style Eggplant Simmered In Rich Tomato Curry)\n",
      "Protein Rich Paneer And Horse Gram Soup Recipe - Kollu/ Kulith Soup\n",
      "3 : Dry Navratan Korma Recipe http://www.archanaskitchen.com/dry-navratan-korma-recipe\n",
      "Can be served with: \n",
      " Tomato Onion Cucumber Raita (Recipe In Hindi)\n",
      "Kachumber Salad Recipe With Cucumber, Onion & Tomatoes\n",
      "Thai Style Sweet And Sour Cucumber & Carrot Salad Recipe\n",
      "South Indian Kosambari Recipe With Raw Mango, Cucumber, Carrot & Beetroot\n",
      "Kala Chana Salad Recipe With Carrots, Cucumber & Tomatoes \n",
      "4 : Layered Paneer Butter Masala Biryani Recipe http://www.archanaskitchen.com/layered-paneer-butter-masala-biryani-recipe\n",
      "Can be served with: \n",
      "Corn And Onion Raita Recipe\n",
      "Onion Raita Recipe - Onion Raita Recipe\n",
      " Onion Raita Recipe\n",
      "Ragi Malpua With Rabri Recipe (Indian Pancakes With Creamy Pudding)\n",
      "Kesar Shahi Tukda With Rabdi Recipe (Saffron Bread Pudding With Spiced Milk Custard)\n",
      "5 : Paneer Do Pyaza Recipe https://www.archanaskitchen.com/paneer-do-pyaza-recipe\n",
      "Can be served with: \n",
      " Tomato Onion Cucumber Raita (Recipe In Hindi)\n",
      "Aloo Matar Sabzi\n"
     ]
    }
   ],
   "source": [
    "ingredient_list1 = ['garam masala powder', 'paneer','fresh cream', 'butter', 'cashew nut', 'cumin powder', 'kasuri methi']\n",
    "#diet_type : 1 for weight gain, 2 for weight loss, 3 for balanced diet\n",
    "diet_type = 3\n",
    "#course : Main Course, Dessert, Appetizer, Side Dish, Breakfast, Snack\n",
    "course = \"Main Course\"\n",
    "#diet : Vegetarian, Non-Vegetarian\n",
    "diet = \"Vegetarian\"\n",
    "\n",
    "result = RRS(ingredient_list1, diet_type, course, diet)\n",
    "i = 0\n",
    "for recipe in result:\n",
    "    print(i+1, \":\", recipe, result[recipe][0])\n",
    "    print(\"Can be served with: \")\n",
    "    for r in result[recipe][1]:\n",
    "        print(r)\n",
    "    i += 1\n"
   ]
  }
 ],
 "metadata": {
  "kernelspec": {
   "display_name": "Python 3",
   "language": "python",
   "name": "python3"
  },
  "language_info": {
   "codemirror_mode": {
    "name": "ipython",
    "version": 3
   },
   "file_extension": ".py",
   "mimetype": "text/x-python",
   "name": "python",
   "nbconvert_exporter": "python",
   "pygments_lexer": "ipython3",
   "version": "3.10.9"
  },
  "orig_nbformat": 4
 },
 "nbformat": 4,
 "nbformat_minor": 2
}
