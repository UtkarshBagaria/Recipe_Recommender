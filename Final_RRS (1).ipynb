{
 "cells": [
  {
   "cell_type": "markdown",
   "metadata": {},
   "source": [
    "# Connection to Graph Database"
   ]
  },
  {
   "cell_type": "code",
   "execution_count": 17,
   "metadata": {},
   "outputs": [
    {
     "name": "stdout",
     "output_type": "stream",
     "text": [
      "Connection successful. Returned value: 1\n"
     ]
    }
   ],
   "source": [
    "from neo4j import GraphDatabase\n",
    "\n",
    "uri = \"bolt://localhost:7687\"\n",
    "username = \"neo4j\"\n",
    "password = \"password2\"\n",
    "\n",
    "try:\n",
    "    driver = GraphDatabase.driver(uri, auth=(username, password))\n",
    "    session = driver.session()\n",
    "    result = session.run(\"RETURN 1\")\n",
    "    value = result.single()[0]\n",
    "    print(\"Connection successful. Returned value:\", value)\n",
    "except Exception as e:\n",
    "    print(\"Connection error:\", str(e))"
   ]
  },
  {
   "cell_type": "markdown",
   "metadata": {},
   "source": [
    "# Functions to retrieve information about nodes from graph"
   ]
  },
  {
   "cell_type": "markdown",
   "metadata": {},
   "source": [
    "Function to get Recipe node with given ingredient list"
   ]
  },
  {
   "cell_type": "code",
   "execution_count": 23,
   "metadata": {},
   "outputs": [],
   "source": [
    "#function for retrieving recipes with all ingredients\n",
    "def get_recipes_with_all_ingredients(ingredients_list):\n",
    "    query = \"\"\"\n",
    "    MATCH (r:Recipe)\n",
    "    WHERE ALL(ingredientName IN $ingredients_list\n",
    "              WHERE (:Ingredient {name: ingredientName})-[:Ingredient_In]->(r))\n",
    "    RETURN r.name\n",
    "    \"\"\"\n",
    "    with driver.session() as session:\n",
    "        with session.begin_transaction() as tx:\n",
    "            result = tx.run(query, ingredients_list=ingredients_list)\n",
    "            return [record[\"r.name\"] for record in result]"
   ]
  },
  {
   "cell_type": "markdown",
   "metadata": {},
   "source": [
    "Function to get weights of ingredients in given ingredient list "
   ]
  },
  {
   "cell_type": "code",
   "execution_count": 24,
   "metadata": {},
   "outputs": [],
   "source": [
    "#function to get weight of each ingredient  in the ingredient list\n",
    "def get_ingredient_weight(ingredients_list):\n",
    "    query = \"\"\"\n",
    "    MATCH (i:Ingredient)\n",
    "    WHERE i.name IN $ingredients_list\n",
    "    RETURN i.name, i.weight\n",
    "    \"\"\"\n",
    "    with driver.session() as session:\n",
    "        with session.begin_transaction() as tx:\n",
    "            result = tx.run(query, ingredients_list=ingredients_list)\n",
    "            ingre_with_weight = {}\n",
    "            for record in result:\n",
    "                ingre_with_weight[record[\"i.name\"]] = record[\"i.weight\"]\n",
    "            return ingre_with_weight"
   ]
  },
  {
   "cell_type": "markdown",
   "metadata": {},
   "source": [
    "Function to get rating of given recipe"
   ]
  },
  {
   "cell_type": "code",
   "execution_count": 25,
   "metadata": {},
   "outputs": [],
   "source": [
    "#function to get rating of a recipe\n",
    "def get_recipe_rating(recipe_name):\n",
    "    query = \"\"\"\n",
    "    MATCH (r:Recipe {name: $recipe_name})\n",
    "    RETURN r.rating\n",
    "    \"\"\"\n",
    "    with driver.session() as session:\n",
    "        with session.begin_transaction() as tx:\n",
    "            result = tx.run(query, recipe_name=recipe_name)\n",
    "            return result.single()[0]\n"
   ]
  },
  {
   "cell_type": "code",
   "execution_count": 36,
   "metadata": {},
   "outputs": [],
   "source": [
    "#function to get URL of recipe\n",
    "def get_recipe_url(recipe_name):\n",
    "    query = \"\"\"\n",
    "    MATCH (r:Recipe {name: $recipe_name})\n",
    "    RETURN r.url\n",
    "    \"\"\"\n",
    "\n",
    "    with driver.session() as session:\n",
    "        with session.begin_transaction() as tx:\n",
    "            result = tx.run(query, recipe_name=recipe_name)\n",
    "            return result.single()[0]\n",
    "        "
   ]
  },
  {
   "cell_type": "code",
   "execution_count": 26,
   "metadata": {},
   "outputs": [],
   "source": [
    "#function to get all ingredients in a recipe\n",
    "def get_ingredients_in_recipe(recipe_name):\n",
    "    query = \"\"\"\n",
    "    MATCH (i:Ingredient)-[:Ingredient_In]->(r:Recipe {name: $recipe_name})\n",
    "    RETURN i.name\n",
    "    \"\"\"\n",
    "    with driver.session() as session:\n",
    "        with session.begin_transaction() as tx:\n",
    "            result = tx.run(query, recipe_name=recipe_name)\n",
    "            return [record[\"i.name\"] for record in result]\n",
    "        \n"
   ]
  },
  {
   "cell_type": "code",
   "execution_count": 29,
   "metadata": {},
   "outputs": [],
   "source": [
    "#Function to write cypher query to total weight of ingredients in the recipe\n",
    "def get_total_weight_of_ingredients(ingredients_list):\n",
    "    query = \"\"\"\n",
    "    MATCH (i:Ingredient)\n",
    "    WHERE i.name IN $ingredients_list\n",
    "    RETURN sum(i.weight)\n",
    "    \"\"\"\n",
    "    with driver.session() as session:\n",
    "        with session.begin_transaction() as tx:\n",
    "            result = tx.run(query, ingredients_list=ingredients_list)\n",
    "            return result.single()[0]\n",
    "    "
   ]
  },
  {
   "cell_type": "code",
   "execution_count": 32,
   "metadata": {},
   "outputs": [],
   "source": [
    "ingre = get_ingredients_in_recipe(\"Masala Karela Recipe\")\n",
    "final_idf=get_total_weight_of_ingredients(ingre)/len(ingre)"
   ]
  },
  {
   "cell_type": "markdown",
   "metadata": {},
   "source": [
    "# Functions to retrive and calculate recipes score based on idf weighting, fraction of ingredients, nutrients, ratings"
   ]
  },
  {
   "cell_type": "markdown",
   "metadata": {},
   "source": [
    "Functions to get combination set of ingredients with lower idf weight"
   ]
  },
  {
   "cell_type": "code",
   "execution_count": 6,
   "metadata": {},
   "outputs": [],
   "source": [
    "import itertools\n",
    "def get_combinations_525(list1):\n",
    "    i = len(list1) * 0.525\n",
    "    list1_525_combinations = []\n",
    "    list1_525_combinations.extend(list(itertools.combinations(list1, round(i))))\n",
    "    return list1_525_combinations\n",
    "\n",
    "def get_combinations_35(list1):\n",
    "    i = len(list1) * 0.35\n",
    "    list1_35_combinations = []\n",
    "    list1_35_combinations.extend(list(itertools.combinations(list1, round(i))))\n",
    "    return list1_35_combinations"
   ]
  },
  {
   "cell_type": "markdown",
   "metadata": {},
   "source": [
    "Function to 75%  and 50% of the ingredients in the list "
   ]
  },
  {
   "cell_type": "code",
   "execution_count": 7,
   "metadata": {},
   "outputs": [],
   "source": [
    "#combinations of a list elements with 30% of elements with highest weight in the list , other 70% of elements should be choosen randomly and total 75% of elements of original list should be there in new list\n",
    "def get_75_percent_of_lists(list1):\n",
    "    ingre_weight = get_ingredient_weight(list1)\n",
    "    ingre_weight = sorted(ingre_weight.items(), key=lambda x: x[1], reverse=True)\n",
    "    ingre_list = [x[0] for x in ingre_weight]\n",
    "    final_list = []\n",
    "    #get 30% of elements with highest weight\n",
    "    list1_30 = ingre_list[:int(len(ingre_list)*0.225)]\n",
    "    list1_not_30 = ingre_list[int(len(ingre_list)*0.225):]\n",
    "    #get 70% of elements with lower weight forming diffirent combinations and new list should have 75% of elements of original list\n",
    "    list1_70s = get_combinations_525(list1_not_30)\n",
    "    for i in list1_70s:\n",
    "        final_list.append(list1_30 + list(i))\n",
    "\n",
    "    return final_list\n",
    "\n",
    "\n",
    "def get_50_percent_of_lists(list1):\n",
    "    ingre_weight = get_ingredient_weight(list1)\n",
    "    ingre_weight = sorted(ingre_weight.items(), key=lambda x: x[1], reverse=True)\n",
    "    ingre_list = [x[0] for x in ingre_weight]\n",
    "    final_list = []\n",
    "    #get 30% of elements with highest weight\n",
    "    list1_30 = ingre_list[:int(len(ingre_list)*0.15)]\n",
    "    list1_not_30 = ingre_list[int(len(ingre_list)*0.15):]\n",
    "    #get 70% of elements with lower weight forming diffirent combinations and new list should have 75% of elements of original list\n",
    "    list1_70s = get_combinations_35(list1_not_30)\n",
    "    for i in list1_70s:\n",
    "        final_list.append(list1_30 + list(i))\n",
    "\n",
    "    return final_list"
   ]
  },
  {
   "cell_type": "markdown",
   "metadata": {},
   "source": [
    "Function to retrieve recipes with all ingredients and 75% of ingredients and 50% of ingredients"
   ]
  },
  {
   "cell_type": "code",
   "execution_count": 31,
   "metadata": {},
   "outputs": [],
   "source": [
    "#function for retrieving recipes with all possible combinations of ingredients\n",
    "def get_recipes_with_ingredients_combinations_v2(ingredients_list):\n",
    "    total_recipe_list = []\n",
    "    total_recipe_dict = dict()\n",
    "    result1 = get_recipes_with_all_ingredients(ingredients_list)\n",
    "    total_recipe_list.extend(result1)\n",
    "    for recipe in result1:\n",
    "        total_recipe_dict[recipe] = 0.5\n",
    "\n",
    "    combinations_75 = get_75_percent_of_lists(ingredients_list)\n",
    "    for combination in combinations_75:\n",
    "        result2 = get_recipes_with_all_ingredients(combination)\n",
    "        for recipe in result2:\n",
    "            if recipe not in total_recipe_dict:\n",
    "                total_recipe_dict[recipe] = 0.375\n",
    "                total_recipe_list.append(recipe)\n",
    "\n",
    "    combinations_50 = get_50_percent_of_lists(ingredients_list)\n",
    "    for combination in combinations_50:\n",
    "        result3 = get_recipes_with_all_ingredients(combination)\n",
    "        for recipe in result3:\n",
    "            if recipe not in total_recipe_dict:\n",
    "                total_recipe_dict[recipe] = 0.25\n",
    "                total_recipe_list.append(recipe)\n",
    "\n",
    "    return total_recipe_list, total_recipe_dict"
   ]
  },
  {
   "cell_type": "markdown",
   "metadata": {},
   "source": [
    "Function to get nutrients of given recipe"
   ]
  },
  {
   "cell_type": "code",
   "execution_count": 8,
   "metadata": {},
   "outputs": [],
   "source": [
    "#get nutrients of recipe \n",
    "def get_nutrients(recipe_name):\n",
    "    query = \"\"\"\n",
    "    MATCH (r:Recipe {name: $recipe_name})\n",
    "    RETURN r.nutrients\n",
    "    \"\"\"\n",
    "\n",
    "    with driver.session() as session:\n",
    "        with session.begin_transaction() as tx:\n",
    "            result = tx.run(query, recipe_name=recipe_name)\n",
    "            return result.single()[0]\n",
    "        "
   ]
  },
  {
   "cell_type": "markdown",
   "metadata": {},
   "source": [
    "Function to extract nutrients name"
   ]
  },
  {
   "cell_type": "code",
   "execution_count": 9,
   "metadata": {},
   "outputs": [],
   "source": [
    "#function to extract until alphabet\n",
    "def extract_until_alphabet(s):\n",
    "    extracted = \"\"\n",
    "    for char in s:\n",
    "        if char.isalpha():\n",
    "            break\n",
    "        extracted += char\n",
    "    return float(extracted)"
   ]
  },
  {
   "cell_type": "markdown",
   "metadata": {},
   "source": [
    "Functions to calculate score or retrieved recipes based on one of three diet criterions"
   ]
  },
  {
   "cell_type": "code",
   "execution_count": 10,
   "metadata": {},
   "outputs": [],
   "source": [
    "weight_gain_weights = {\n",
    "    'calories': 0.25,\n",
    "    'total_fat': 0.15,\n",
    "    'saturated_fat': 0.1,\n",
    "    'fiber': 0.05,\n",
    "    'carbohydrate': 0.2,\n",
    "    'protein': 0.2,\n",
    "    'sugar': 0.05,\n",
    "}\n",
    "weight_loss_weights = {\n",
    "    'calories': 0.1,\n",
    "    'total_fat': 0.1,\n",
    "    'saturated_fat': 0.05,\n",
    "    'fiber': 0.25,\n",
    "    'carbohydrate': 0.2,\n",
    "    'protein': 0.2,\n",
    "    'sugar': 0.1,\n",
    "}\n",
    "balanced_diet_weights = {\n",
    "    'calories': 0.15,\n",
    "    'total_fat': 0.15,\n",
    "    'saturated_fat': 0.1,\n",
    "    'fiber': 0.15,\n",
    "    'carbohydrate': 0.2,\n",
    "    'protein': 0.2,\n",
    "    'sugar': 0.05,\n",
    "}\n",
    "import ast\n",
    "# calculate the gain weight max score from all the recipes\n",
    "maxb=1.5142857142857142\n",
    "maxg=2.378571428571429\n",
    "def weight_gain(nutrients):\n",
    "    score=0.0\n",
    "    # print(df1['Nutrients'][index]['calories'])\n",
    "    try:\n",
    "        for key,value in weight_gain_weights.items():\n",
    "            # print(key)\n",
    "            score+=value*(extract_until_alphabet(ast.literal_eval(nutrients)[key]))\n",
    "        score/=extract_until_alphabet(ast.literal_eval(nutrients)['serving_size'])\n",
    "        score=score/maxg\n",
    "        return score\n",
    "        # if score>max:\n",
    "        #     max=score\n",
    "        #     recipe=data\n",
    "    except:\n",
    "        pass\n",
    "    \n",
    "def weight_loss(nutrients):\n",
    "    \n",
    "    score=0.0\n",
    "# print(df1['Nutrients'][index]['calories'])\n",
    "    try:\n",
    "        for key,value in weight_loss_weights.items():\n",
    "            # print(key)\n",
    "            score+=value*(extract_until_alphabet(ast.literal_eval(nutrients)[key]))\n",
    "        score/=extract_until_alphabet(ast.literal_eval(nutrients)['serving_size'])\n",
    "        return score\n",
    "        # print(score)\n",
    "        # if score>max:\n",
    "        #     max=score\n",
    "        #     recipe=data\n",
    "    except:\n",
    "        pass\n",
    "def balanced_diet(nutrients):\n",
    "   \n",
    "    score=0.0\n",
    "# print(df1['Nutrients'][index]['calories'])\n",
    "    try:\n",
    "        for key,value in balanced_diet_weights.items():\n",
    "            # print(key)\n",
    "            score+=value*(extract_until_alphabet(ast.literal_eval(nutrients)[key]))\n",
    "        score/=extract_until_alphabet(ast.literal_eval(nutrients)['serving_size'])\n",
    "        score=score/maxb\n",
    "        return score\n",
    "        # print(score)\n",
    "        # if score>max:\n",
    "        #     max=score\n",
    "        #     recipe=data\n",
    "    except:\n",
    "        pass"
   ]
  },
  {
   "cell_type": "code",
   "execution_count": 13,
   "metadata": {},
   "outputs": [],
   "source": [
    "#function to stem the list of words\n",
    "from nltk.stem import PorterStemmer\n",
    "def stem_list(list1):\n",
    "    ps = PorterStemmer()\n",
    "    stemmed_list = []\n",
    "    for i in list1:\n",
    "        stemmed_list.append(ps.stem(i))\n",
    "    return stemmed_list\n",
    "\n"
   ]
  },
  {
   "cell_type": "code",
   "execution_count": 37,
   "metadata": {},
   "outputs": [],
   "source": [
    "import math\n",
    "def RRS(ingredient_list, diet_type):\n",
    "    #stem the ingreidients\n",
    "    ingredient_list = stem_list(ingredient_list)\n",
    "    #get recipes with all possible combinations of ingredients\n",
    "    retreived_recipes_list, retreived_recipes_dict  = get_recipes_with_ingredients_combinations_v2(ingredient_list)\n",
    "\n",
    "    #calculate score for each recipe on the basis of rating, diet type\n",
    "    for recipe in retreived_recipes_dict:\n",
    "        rating = get_recipe_rating(recipe)\n",
    "        if math.isnan(rating):\n",
    "            rating = 0.0\n",
    "        new_value = (rating/5) * 0.25 \n",
    "        \n",
    "        nutrients = get_nutrients(recipe)\n",
    "        if diet_type == \"balanced_diet\":\n",
    "            n_score = balanced_diet(nutrients)\n",
    "        elif diet_type == \"weight_loss\":\n",
    "            n_score = weight_loss(nutrients)\n",
    "        elif diet_type == \"weight_gain\":\n",
    "            n_score = weight_gain(nutrients)\n",
    "        else:\n",
    "            n_score = None\n",
    "\n",
    "        if n_score is None:\n",
    "            n_score = 0.0\n",
    "\n",
    "        final_score = n_score * 0.25 + retreived_recipes_dict[recipe] + new_value \n",
    "        retreived_recipes_dict[recipe] = final_score\n",
    "\n",
    "    #sort the recipes on the basis of score \n",
    "    sorted_retrieved_recipes_dict = dict(sorted(retreived_recipes_dict.items(), key=lambda item:item[1], reverse=True ))\n",
    "    #get top 5 recipes in sorted_retrieved_recipes_dict\n",
    "    recipes_dict = dict.fromkeys(list(sorted_retrieved_recipes_dict.keys())[:5], \"\")\n",
    "    #get url of each recipe\n",
    "    for recipe in recipes_dict:\n",
    "        recipes_dict[recipe] = get_recipe_url(recipe)\n",
    "\n",
    "    return recipes_dict"
   ]
  },
  {
   "cell_type": "code",
   "execution_count": 11,
   "metadata": {},
   "outputs": [],
   "source": []
  },
  {
   "cell_type": "code",
   "execution_count": null,
   "metadata": {},
   "outputs": [],
   "source": []
  },
  {
   "cell_type": "markdown",
   "metadata": {},
   "source": [
    "**************************************************"
   ]
  },
  {
   "cell_type": "markdown",
   "metadata": {},
   "source": [
    "# RESULT"
   ]
  },
  {
   "cell_type": "code",
   "execution_count": 39,
   "metadata": {},
   "outputs": [
    {
     "name": "stdout",
     "output_type": "stream",
     "text": [
      "1 Coriander Prawn Cakes Recipe https://www.archanaskitchen.com/coriander-prawn-cakes-recipe\n",
      "2 Spinach Soft Shell Taco Stuffed with Cabbage Slaw Salad Recipe https://www.archanaskitchen.com/spinach-soft-shell-taco-stuffed-with-cabbage-slaw-salad-recipe\n",
      "3 Savory Ricotta Tart Recipe https://www.archanaskitchen.com/savory-ricotta-tart-recipe\n",
      "4 Chicken Crepe Lasagne Recipe http://www.archanaskitchen.com/chicken-crepe-lasagne-recipe\n",
      "5 Andaman Style Steamed Garlic Prawns Recipe https://www.archanaskitchen.com/andaman-style-steamed-garlic-prawns-recipe\n"
     ]
    }
   ],
   "source": [
    "ingredients_list1 = [\"makki ka atta\", \"prawn\", \"red chilli flak\", \"corainder leav\", \"curd\", \"lemon ju\"]\n",
    "#diet type = 1 for weight gain, 2 for weight loss, 3 for balanced diet\n",
    "diet_type = 1\n",
    "result = RRS(ingredients_list1, diet_type)\n",
    "i = 0\n",
    "for recipe in result:\n",
    "    print(i+1,recipe, result[recipe])\n",
    "    i+=1"
   ]
  },
  {
   "cell_type": "code",
   "execution_count": 42,
   "metadata": {},
   "outputs": [
    {
     "name": "stdout",
     "output_type": "stream",
     "text": [
      "1 Dahi Wale Paneer Recipe - Paneer In A Curd Gravy https://www.archanaskitchen.com/dahi-wale-paneer-recipe-paneer-in-a-curd-gravy\n",
      "2 Paneer Peshawari Recipe - Cottage Cheese In Rich Gravy http://www.archanaskitchen.com/paneer-peshawari-recipe-cottage-cheese-in-rich-gravy\n",
      "3 Achari Paneer Masala Recipe http://www.archanaskitchen.com/achari-paneer-masala-recipe\n",
      "4 Nawabi Paneer Curry Recipe https://www.archanaskitchen.com/nawabi-paneer-curry-recipe\n",
      "5 Matar Paneer Kachori Korma Recipe - Green Peas And Paneer Kachori Curry http://www.archanaskitchen.com/matar-paneer-kachori-korma-recipe-green-peas-and-paneer-kachori-curry\n"
     ]
    }
   ],
   "source": [
    "#\n",
    "ingredients_list2 = [\"paneer\", \"potato\", \"cumin powder\",\"green bell pepper\", \"whole cashew\", \"green peas\", \"butter\", \"lemon juice\"]\n",
    "#diet type = 1 for weight gain, 2 for weight loss, 3 for balanced diet\n",
    "diet_type = 1\n",
    "result = RRS(ingredients_list2, diet_type)\n",
    "i = 0\n",
    "for recipe in result:\n",
    "    print(i+1,recipe, result[recipe])\n",
    "    i+=1"
   ]
  },
  {
   "cell_type": "code",
   "execution_count": 46,
   "metadata": {},
   "outputs": [
    {
     "name": "stdout",
     "output_type": "stream",
     "text": [
      "1 Dahi Wale Paneer Recipe - Paneer In A Curd Gravy https://www.archanaskitchen.com/dahi-wale-paneer-recipe-paneer-in-a-curd-gravy\n",
      "2 Paneer Peshawari Recipe - Cottage Cheese In Rich Gravy http://www.archanaskitchen.com/paneer-peshawari-recipe-cottage-cheese-in-rich-gravy\n",
      "3 Achari Paneer Masala Recipe http://www.archanaskitchen.com/achari-paneer-masala-recipe\n",
      "4 Nawabi Paneer Curry Recipe https://www.archanaskitchen.com/nawabi-paneer-curry-recipe\n",
      "5 Matar Paneer Kachori Korma Recipe - Green Peas And Paneer Kachori Curry http://www.archanaskitchen.com/matar-paneer-kachori-korma-recipe-green-peas-and-paneer-kachori-curry\n"
     ]
    }
   ],
   "source": [
    "ingredients_list3 = ['garam masala powd', 'fresh cream', 'butter', 'cashew nut', 'gram pan', 'cumin powd', 'kasuri methi']\n",
    "#diet type = 1 for weight gain, 2 for weight loss, 3 for balanced diet\n",
    "diet_type = 3\n",
    "result = RRS(ingredients_list2, diet_type)\n",
    "i = 0\n",
    "for recipe in result:\n",
    "    print(i+1,recipe, result[recipe])\n",
    "    i+=1"
   ]
  }
 ],
 "metadata": {
  "kernelspec": {
   "display_name": "Python 3",
   "language": "python",
   "name": "python3"
  },
  "language_info": {
   "codemirror_mode": {
    "name": "ipython",
    "version": 3
   },
   "file_extension": ".py",
   "mimetype": "text/x-python",
   "name": "python",
   "nbconvert_exporter": "python",
   "pygments_lexer": "ipython3",
   "version": "3.10.9"
  },
  "orig_nbformat": 4
 },
 "nbformat": 4,
 "nbformat_minor": 2
}
