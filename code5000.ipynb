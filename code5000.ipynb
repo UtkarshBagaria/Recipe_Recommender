{
 "cells": [
  {
   "attachments": {},
   "cell_type": "markdown",
   "metadata": {},
   "source": [
    "Imports"
   ]
  },
  {
   "cell_type": "code",
   "execution_count": 87,
   "metadata": {},
   "outputs": [],
   "source": [
    "import pandas as pd\n",
    "import numpy as np\n",
    "import matplotlib.pyplot as plt\n",
    "import seaborn as sns\n",
    "import os\n",
    "import nltk"
   ]
  },
  {
   "attachments": {},
   "cell_type": "markdown",
   "metadata": {},
   "source": [
    "Reading the datasets"
   ]
  },
  {
   "cell_type": "code",
   "execution_count": 88,
   "metadata": {},
   "outputs": [
    {
     "data": {
      "text/html": [
       "<div>\n",
       "<style scoped>\n",
       "    .dataframe tbody tr th:only-of-type {\n",
       "        vertical-align: middle;\n",
       "    }\n",
       "\n",
       "    .dataframe tbody tr th {\n",
       "        vertical-align: top;\n",
       "    }\n",
       "\n",
       "    .dataframe thead th {\n",
       "        text-align: right;\n",
       "    }\n",
       "</style>\n",
       "<table border=\"1\" class=\"dataframe\">\n",
       "  <thead>\n",
       "    <tr style=\"text-align: right;\">\n",
       "      <th></th>\n",
       "      <th>name</th>\n",
       "      <th>image_url</th>\n",
       "      <th>description</th>\n",
       "      <th>cuisine</th>\n",
       "      <th>course</th>\n",
       "      <th>diet</th>\n",
       "      <th>prep_time</th>\n",
       "      <th>ingredients</th>\n",
       "      <th>instructions</th>\n",
       "      <th>image_available</th>\n",
       "    </tr>\n",
       "  </thead>\n",
       "  <tbody>\n",
       "    <tr>\n",
       "      <th>0</th>\n",
       "      <td>Doddapatre Tambuli Recipe (Karpooravalli Thayi...</td>\n",
       "      <td>https://www.archanaskitchen.com/images/archana...</td>\n",
       "      <td>Doddapatre Tambuli Recipe is a popular healing...</td>\n",
       "      <td>Indian</td>\n",
       "      <td>Side Dish</td>\n",
       "      <td>Vegetarian</td>\n",
       "      <td>Total in 30 M</td>\n",
       "      <td>\\n\\n\\t\\t\\t\\t\\t\\t\\t \\t\\t4 cups Indian borage (D...</td>\n",
       "      <td>To begin making the Doddapatre Tambuli, first ...</td>\n",
       "      <td>1</td>\n",
       "    </tr>\n",
       "    <tr>\n",
       "      <th>1</th>\n",
       "      <td>Fish Tandoori Recipe</td>\n",
       "      <td>https://www.archanaskitchen.com/images/archana...</td>\n",
       "      <td>Have you ever tried out fish tandoori? Trust m...</td>\n",
       "      <td>North Indian Recipes</td>\n",
       "      <td>Appetizer</td>\n",
       "      <td>High Protein Non Vegetarian</td>\n",
       "      <td>Total in 80 M</td>\n",
       "      <td>\\n\\n\\t\\t\\t\\t\\t\\t\\t \\t\\t1 Fish\\t\\t\\t\\t\\t\\t\\t \\t...</td>\n",
       "      <td>To begin making the Fish Tandoori recipe, keep...</td>\n",
       "      <td>1</td>\n",
       "    </tr>\n",
       "    <tr>\n",
       "      <th>2</th>\n",
       "      <td>Arbi Shimla Mirch Sabzi Recipe – Colocasia Cap...</td>\n",
       "      <td>https://www.archanaskitchen.com/images/archana...</td>\n",
       "      <td>Arbi Shimla Mirch Sabzi Recipe is a variation ...</td>\n",
       "      <td>North Indian Recipes</td>\n",
       "      <td>Main Course</td>\n",
       "      <td>No Onion No Garlic (Sattvic)</td>\n",
       "      <td>Total in 55 M</td>\n",
       "      <td>\\n\\n\\t\\t\\t\\t\\t\\t\\t \\t\\t300 grams Colocasia roo...</td>\n",
       "      <td>To begin making the Arbi Shimla Mirch Sabzi Re...</td>\n",
       "      <td>1</td>\n",
       "    </tr>\n",
       "    <tr>\n",
       "      <th>3</th>\n",
       "      <td>Ambur Style Brinjal Curry Recipe</td>\n",
       "      <td>https://www.archanaskitchen.com/images/archana...</td>\n",
       "      <td>Brinjal Curry is prepared in different ways in...</td>\n",
       "      <td>Indian</td>\n",
       "      <td>Lunch</td>\n",
       "      <td>Vegetarian</td>\n",
       "      <td>Total in 20 M</td>\n",
       "      <td>\\n\\n\\t\\t\\t\\t\\t\\t\\t \\t\\t5 Brinjal (Baingan / Eg...</td>\n",
       "      <td>To begin making the Ambur Style Brinjal Curry ...</td>\n",
       "      <td>1</td>\n",
       "    </tr>\n",
       "    <tr>\n",
       "      <th>4</th>\n",
       "      <td>Mavinakayi Menasinakai Curry Recipe  - Raw Man...</td>\n",
       "      <td>https://www.archanaskitchen.com/images/archana...</td>\n",
       "      <td>Mangalorean Mavinakayi Menasinakai Curry Recip...</td>\n",
       "      <td>Mangalorean</td>\n",
       "      <td>Side Dish</td>\n",
       "      <td>Vegetarian</td>\n",
       "      <td>Total in 35 M</td>\n",
       "      <td>\\n\\n\\t\\t\\t\\t\\t\\t\\t \\t\\t1 cup Mango (Raw)\\t\\t\\t...</td>\n",
       "      <td>To begin making Mangalorean Mavinakayi Menasin...</td>\n",
       "      <td>1</td>\n",
       "    </tr>\n",
       "    <tr>\n",
       "      <th>...</th>\n",
       "      <td>...</td>\n",
       "      <td>...</td>\n",
       "      <td>...</td>\n",
       "      <td>...</td>\n",
       "      <td>...</td>\n",
       "      <td>...</td>\n",
       "      <td>...</td>\n",
       "      <td>...</td>\n",
       "      <td>...</td>\n",
       "      <td>...</td>\n",
       "    </tr>\n",
       "    <tr>\n",
       "      <th>4461</th>\n",
       "      <td>Tamil Nadu Style Vazha Thandu Thogayal Recipe ...</td>\n",
       "      <td>https://www.archanaskitchen.com/images/archana...</td>\n",
       "      <td>Tamil Nadu Style Vazha Thandu Thogayal Recipe ...</td>\n",
       "      <td>Tamil Nadu</td>\n",
       "      <td>Side Dish</td>\n",
       "      <td>Vegetarian</td>\n",
       "      <td>Total in 40 M</td>\n",
       "      <td>\\n\\n\\t\\t\\t\\t\\t\\t\\t \\t\\t1 teaspoon Mustard seed...</td>\n",
       "      <td>We begin making the Tamil Nadu Style Vazha Tha...</td>\n",
       "      <td>1</td>\n",
       "    </tr>\n",
       "    <tr>\n",
       "      <th>4462</th>\n",
       "      <td>Kondakadalai Vazhathandu Puli Thengai Kuzhambu...</td>\n",
       "      <td>https://www.archanaskitchen.com/images/archana...</td>\n",
       "      <td>Kondakadalai Vazhathandu Puli Thengai Kuzhambu...</td>\n",
       "      <td>Tamil Nadu</td>\n",
       "      <td>Main Course</td>\n",
       "      <td>Diabetic Friendly</td>\n",
       "      <td>Total in 530 M</td>\n",
       "      <td>\\n\\n\\t\\t\\t\\t\\t\\t\\t \\t\\t1 cup Kala Chana (Brown...</td>\n",
       "      <td>We begin making the Kondakadalai Vazhathandu P...</td>\n",
       "      <td>1</td>\n",
       "    </tr>\n",
       "    <tr>\n",
       "      <th>4463</th>\n",
       "      <td>Besan &amp; Atta Ki Roti Recipe (Chickpea Flatbread)</td>\n",
       "      <td>https://www.archanaskitchen.com/images/archana...</td>\n",
       "      <td>The Besan &amp; Atta Ki Roti Recipe is a delicious...</td>\n",
       "      <td>Indian</td>\n",
       "      <td>Dinner</td>\n",
       "      <td>Vegetarian</td>\n",
       "      <td>Total in 40 M</td>\n",
       "      <td>\\n\\n\\t\\t\\t\\t\\t\\t\\t \\t\\t2 cups Gram flour (besa...</td>\n",
       "      <td>To begin making the Besan &amp; Atta Ki Roti Recip...</td>\n",
       "      <td>1</td>\n",
       "    </tr>\n",
       "    <tr>\n",
       "      <th>4464</th>\n",
       "      <td>Cauliflower And Methi Paratha Recipe</td>\n",
       "      <td>https://www.archanaskitchen.com/images/archana...</td>\n",
       "      <td>Cauliflower And Methi Paratha is a perfect bre...</td>\n",
       "      <td>Indian</td>\n",
       "      <td>Indian Breakfast</td>\n",
       "      <td>Vegetarian</td>\n",
       "      <td>Total in 60 M</td>\n",
       "      <td>\\nFor the dough\\n\\n\\t\\t\\t\\t\\t\\t\\t \\t\\t1 cup Wh...</td>\n",
       "      <td>To begin with Cauliflower And Methi Paratha Re...</td>\n",
       "      <td>1</td>\n",
       "    </tr>\n",
       "    <tr>\n",
       "      <th>4465</th>\n",
       "      <td>Dal Chenchki ( Red Lentils with Shallots)</td>\n",
       "      <td>https://www.archanaskitchen.com/images/archana...</td>\n",
       "      <td>The Dal Chenchki is a recipe from Bengal, a st...</td>\n",
       "      <td>Bengali Recipes</td>\n",
       "      <td>Dinner</td>\n",
       "      <td>High Protein Vegetarian</td>\n",
       "      <td>Total in 40 M</td>\n",
       "      <td>\\n\\n\\t\\t\\t\\t\\t\\t\\t \\t\\t1 cup Pink Masoor Dal (...</td>\n",
       "      <td>To begin making the Dal Chenchki Recipe, I wil...</td>\n",
       "      <td>1</td>\n",
       "    </tr>\n",
       "  </tbody>\n",
       "</table>\n",
       "<p>4466 rows × 10 columns</p>\n",
       "</div>"
      ],
      "text/plain": [
       "                                                   name  \\\n",
       "0     Doddapatre Tambuli Recipe (Karpooravalli Thayi...   \n",
       "1                                  Fish Tandoori Recipe   \n",
       "2     Arbi Shimla Mirch Sabzi Recipe – Colocasia Cap...   \n",
       "3                      Ambur Style Brinjal Curry Recipe   \n",
       "4     Mavinakayi Menasinakai Curry Recipe  - Raw Man...   \n",
       "...                                                 ...   \n",
       "4461  Tamil Nadu Style Vazha Thandu Thogayal Recipe ...   \n",
       "4462  Kondakadalai Vazhathandu Puli Thengai Kuzhambu...   \n",
       "4463   Besan & Atta Ki Roti Recipe (Chickpea Flatbread)   \n",
       "4464               Cauliflower And Methi Paratha Recipe   \n",
       "4465          Dal Chenchki ( Red Lentils with Shallots)   \n",
       "\n",
       "                                              image_url  \\\n",
       "0     https://www.archanaskitchen.com/images/archana...   \n",
       "1     https://www.archanaskitchen.com/images/archana...   \n",
       "2     https://www.archanaskitchen.com/images/archana...   \n",
       "3     https://www.archanaskitchen.com/images/archana...   \n",
       "4     https://www.archanaskitchen.com/images/archana...   \n",
       "...                                                 ...   \n",
       "4461  https://www.archanaskitchen.com/images/archana...   \n",
       "4462  https://www.archanaskitchen.com/images/archana...   \n",
       "4463  https://www.archanaskitchen.com/images/archana...   \n",
       "4464  https://www.archanaskitchen.com/images/archana...   \n",
       "4465  https://www.archanaskitchen.com/images/archana...   \n",
       "\n",
       "                                            description               cuisine  \\\n",
       "0     Doddapatre Tambuli Recipe is a popular healing...                Indian   \n",
       "1     Have you ever tried out fish tandoori? Trust m...  North Indian Recipes   \n",
       "2     Arbi Shimla Mirch Sabzi Recipe is a variation ...  North Indian Recipes   \n",
       "3     Brinjal Curry is prepared in different ways in...                Indian   \n",
       "4     Mangalorean Mavinakayi Menasinakai Curry Recip...           Mangalorean   \n",
       "...                                                 ...                   ...   \n",
       "4461  Tamil Nadu Style Vazha Thandu Thogayal Recipe ...            Tamil Nadu   \n",
       "4462  Kondakadalai Vazhathandu Puli Thengai Kuzhambu...            Tamil Nadu   \n",
       "4463  The Besan & Atta Ki Roti Recipe is a delicious...                Indian   \n",
       "4464  Cauliflower And Methi Paratha is a perfect bre...                Indian   \n",
       "4465  The Dal Chenchki is a recipe from Bengal, a st...       Bengali Recipes   \n",
       "\n",
       "                course                          diet       prep_time  \\\n",
       "0            Side Dish                    Vegetarian   Total in 30 M   \n",
       "1            Appetizer   High Protein Non Vegetarian   Total in 80 M   \n",
       "2          Main Course  No Onion No Garlic (Sattvic)   Total in 55 M   \n",
       "3                Lunch                    Vegetarian   Total in 20 M   \n",
       "4            Side Dish                    Vegetarian   Total in 35 M   \n",
       "...                ...                           ...             ...   \n",
       "4461         Side Dish                    Vegetarian   Total in 40 M   \n",
       "4462       Main Course             Diabetic Friendly  Total in 530 M   \n",
       "4463            Dinner                    Vegetarian   Total in 40 M   \n",
       "4464  Indian Breakfast                    Vegetarian   Total in 60 M   \n",
       "4465            Dinner       High Protein Vegetarian   Total in 40 M   \n",
       "\n",
       "                                            ingredients  \\\n",
       "0     \\n\\n\\t\\t\\t\\t\\t\\t\\t \\t\\t4 cups Indian borage (D...   \n",
       "1     \\n\\n\\t\\t\\t\\t\\t\\t\\t \\t\\t1 Fish\\t\\t\\t\\t\\t\\t\\t \\t...   \n",
       "2     \\n\\n\\t\\t\\t\\t\\t\\t\\t \\t\\t300 grams Colocasia roo...   \n",
       "3     \\n\\n\\t\\t\\t\\t\\t\\t\\t \\t\\t5 Brinjal (Baingan / Eg...   \n",
       "4     \\n\\n\\t\\t\\t\\t\\t\\t\\t \\t\\t1 cup Mango (Raw)\\t\\t\\t...   \n",
       "...                                                 ...   \n",
       "4461  \\n\\n\\t\\t\\t\\t\\t\\t\\t \\t\\t1 teaspoon Mustard seed...   \n",
       "4462  \\n\\n\\t\\t\\t\\t\\t\\t\\t \\t\\t1 cup Kala Chana (Brown...   \n",
       "4463  \\n\\n\\t\\t\\t\\t\\t\\t\\t \\t\\t2 cups Gram flour (besa...   \n",
       "4464  \\nFor the dough\\n\\n\\t\\t\\t\\t\\t\\t\\t \\t\\t1 cup Wh...   \n",
       "4465  \\n\\n\\t\\t\\t\\t\\t\\t\\t \\t\\t1 cup Pink Masoor Dal (...   \n",
       "\n",
       "                                           instructions  image_available  \n",
       "0     To begin making the Doddapatre Tambuli, first ...                1  \n",
       "1     To begin making the Fish Tandoori recipe, keep...                1  \n",
       "2     To begin making the Arbi Shimla Mirch Sabzi Re...                1  \n",
       "3     To begin making the Ambur Style Brinjal Curry ...                1  \n",
       "4     To begin making Mangalorean Mavinakayi Menasin...                1  \n",
       "...                                                 ...              ...  \n",
       "4461  We begin making the Tamil Nadu Style Vazha Tha...                1  \n",
       "4462  We begin making the Kondakadalai Vazhathandu P...                1  \n",
       "4463  To begin making the Besan & Atta Ki Roti Recip...                1  \n",
       "4464  To begin with Cauliflower And Methi Paratha Re...                1  \n",
       "4465  To begin making the Dal Chenchki Recipe, I wil...                1  \n",
       "\n",
       "[4466 rows x 10 columns]"
      ]
     },
     "execution_count": 88,
     "metadata": {},
     "output_type": "execute_result"
    }
   ],
   "source": [
    "# reading the dataset\n",
    "df1 = pd.read_csv('5000 recipes\\cuisine_updated.csv')\n",
    "df1"
   ]
  },
  {
   "cell_type": "code",
   "execution_count": 89,
   "metadata": {},
   "outputs": [],
   "source": [
    "# df1.describe()"
   ]
  },
  {
   "cell_type": "code",
   "execution_count": 90,
   "metadata": {},
   "outputs": [
    {
     "name": "stdout",
     "output_type": "stream",
     "text": [
      "<class 'pandas.core.frame.DataFrame'>\n",
      "RangeIndex: 4466 entries, 0 to 4465\n",
      "Data columns (total 10 columns):\n",
      " #   Column           Non-Null Count  Dtype \n",
      "---  ------           --------------  ----- \n",
      " 0   name             4466 non-null   object\n",
      " 1   image_url        4466 non-null   object\n",
      " 2   description      4466 non-null   object\n",
      " 3   cuisine          4458 non-null   object\n",
      " 4   course           4424 non-null   object\n",
      " 5   diet             4424 non-null   object\n",
      " 6   prep_time        4454 non-null   object\n",
      " 7   ingredients      4466 non-null   object\n",
      " 8   instructions     4466 non-null   object\n",
      " 9   image_available  4466 non-null   int64 \n",
      "dtypes: int64(1), object(9)\n",
      "memory usage: 349.0+ KB\n"
     ]
    }
   ],
   "source": [
    "df1.info()"
   ]
  },
  {
   "cell_type": "code",
   "execution_count": 91,
   "metadata": {},
   "outputs": [
    {
     "data": {
      "text/plain": [
       "name                0\n",
       "image_url           0\n",
       "description         0\n",
       "cuisine             8\n",
       "course             42\n",
       "diet               42\n",
       "prep_time          12\n",
       "ingredients         0\n",
       "instructions        0\n",
       "image_available     0\n",
       "dtype: int64"
      ]
     },
     "execution_count": 91,
     "metadata": {},
     "output_type": "execute_result"
    }
   ],
   "source": [
    "df1.isnull().sum()"
   ]
  },
  {
   "cell_type": "code",
   "execution_count": 92,
   "metadata": {},
   "outputs": [],
   "source": [
    "df1.dropna(inplace=True)"
   ]
  },
  {
   "cell_type": "code",
   "execution_count": 93,
   "metadata": {},
   "outputs": [],
   "source": [
    "df1.drop(['image_url','image_available'],axis=1,inplace=True)"
   ]
  },
  {
   "cell_type": "code",
   "execution_count": 94,
   "metadata": {},
   "outputs": [
    {
     "data": {
      "text/html": [
       "<div>\n",
       "<style scoped>\n",
       "    .dataframe tbody tr th:only-of-type {\n",
       "        vertical-align: middle;\n",
       "    }\n",
       "\n",
       "    .dataframe tbody tr th {\n",
       "        vertical-align: top;\n",
       "    }\n",
       "\n",
       "    .dataframe thead th {\n",
       "        text-align: right;\n",
       "    }\n",
       "</style>\n",
       "<table border=\"1\" class=\"dataframe\">\n",
       "  <thead>\n",
       "    <tr style=\"text-align: right;\">\n",
       "      <th></th>\n",
       "      <th>name</th>\n",
       "      <th>description</th>\n",
       "      <th>cuisine</th>\n",
       "      <th>course</th>\n",
       "      <th>diet</th>\n",
       "      <th>prep_time</th>\n",
       "      <th>ingredients</th>\n",
       "      <th>instructions</th>\n",
       "    </tr>\n",
       "  </thead>\n",
       "  <tbody>\n",
       "    <tr>\n",
       "      <th>0</th>\n",
       "      <td>Doddapatre Tambuli Recipe (Karpooravalli Thayi...</td>\n",
       "      <td>Doddapatre Tambuli Recipe is a popular healing...</td>\n",
       "      <td>Indian</td>\n",
       "      <td>Side Dish</td>\n",
       "      <td>Vegetarian</td>\n",
       "      <td>Total in 30 M</td>\n",
       "      <td>\\n\\n\\t\\t\\t\\t\\t\\t\\t \\t\\t4 cups Indian borage (D...</td>\n",
       "      <td>To begin making the Doddapatre Tambuli, first ...</td>\n",
       "    </tr>\n",
       "    <tr>\n",
       "      <th>1</th>\n",
       "      <td>Fish Tandoori Recipe</td>\n",
       "      <td>Have you ever tried out fish tandoori? Trust m...</td>\n",
       "      <td>North Indian Recipes</td>\n",
       "      <td>Appetizer</td>\n",
       "      <td>High Protein Non Vegetarian</td>\n",
       "      <td>Total in 80 M</td>\n",
       "      <td>\\n\\n\\t\\t\\t\\t\\t\\t\\t \\t\\t1 Fish\\t\\t\\t\\t\\t\\t\\t \\t...</td>\n",
       "      <td>To begin making the Fish Tandoori recipe, keep...</td>\n",
       "    </tr>\n",
       "    <tr>\n",
       "      <th>2</th>\n",
       "      <td>Arbi Shimla Mirch Sabzi Recipe – Colocasia Cap...</td>\n",
       "      <td>Arbi Shimla Mirch Sabzi Recipe is a variation ...</td>\n",
       "      <td>North Indian Recipes</td>\n",
       "      <td>Main Course</td>\n",
       "      <td>No Onion No Garlic (Sattvic)</td>\n",
       "      <td>Total in 55 M</td>\n",
       "      <td>\\n\\n\\t\\t\\t\\t\\t\\t\\t \\t\\t300 grams Colocasia roo...</td>\n",
       "      <td>To begin making the Arbi Shimla Mirch Sabzi Re...</td>\n",
       "    </tr>\n",
       "    <tr>\n",
       "      <th>3</th>\n",
       "      <td>Ambur Style Brinjal Curry Recipe</td>\n",
       "      <td>Brinjal Curry is prepared in different ways in...</td>\n",
       "      <td>Indian</td>\n",
       "      <td>Lunch</td>\n",
       "      <td>Vegetarian</td>\n",
       "      <td>Total in 20 M</td>\n",
       "      <td>\\n\\n\\t\\t\\t\\t\\t\\t\\t \\t\\t5 Brinjal (Baingan / Eg...</td>\n",
       "      <td>To begin making the Ambur Style Brinjal Curry ...</td>\n",
       "    </tr>\n",
       "    <tr>\n",
       "      <th>4</th>\n",
       "      <td>Mavinakayi Menasinakai Curry Recipe  - Raw Man...</td>\n",
       "      <td>Mangalorean Mavinakayi Menasinakai Curry Recip...</td>\n",
       "      <td>Mangalorean</td>\n",
       "      <td>Side Dish</td>\n",
       "      <td>Vegetarian</td>\n",
       "      <td>Total in 35 M</td>\n",
       "      <td>\\n\\n\\t\\t\\t\\t\\t\\t\\t \\t\\t1 cup Mango (Raw)\\t\\t\\t...</td>\n",
       "      <td>To begin making Mangalorean Mavinakayi Menasin...</td>\n",
       "    </tr>\n",
       "  </tbody>\n",
       "</table>\n",
       "</div>"
      ],
      "text/plain": [
       "                                                name  \\\n",
       "0  Doddapatre Tambuli Recipe (Karpooravalli Thayi...   \n",
       "1                               Fish Tandoori Recipe   \n",
       "2  Arbi Shimla Mirch Sabzi Recipe – Colocasia Cap...   \n",
       "3                   Ambur Style Brinjal Curry Recipe   \n",
       "4  Mavinakayi Menasinakai Curry Recipe  - Raw Man...   \n",
       "\n",
       "                                         description               cuisine  \\\n",
       "0  Doddapatre Tambuli Recipe is a popular healing...                Indian   \n",
       "1  Have you ever tried out fish tandoori? Trust m...  North Indian Recipes   \n",
       "2  Arbi Shimla Mirch Sabzi Recipe is a variation ...  North Indian Recipes   \n",
       "3  Brinjal Curry is prepared in different ways in...                Indian   \n",
       "4  Mangalorean Mavinakayi Menasinakai Curry Recip...           Mangalorean   \n",
       "\n",
       "        course                          diet      prep_time  \\\n",
       "0    Side Dish                    Vegetarian  Total in 30 M   \n",
       "1    Appetizer   High Protein Non Vegetarian  Total in 80 M   \n",
       "2  Main Course  No Onion No Garlic (Sattvic)  Total in 55 M   \n",
       "3        Lunch                    Vegetarian  Total in 20 M   \n",
       "4    Side Dish                    Vegetarian  Total in 35 M   \n",
       "\n",
       "                                         ingredients  \\\n",
       "0  \\n\\n\\t\\t\\t\\t\\t\\t\\t \\t\\t4 cups Indian borage (D...   \n",
       "1  \\n\\n\\t\\t\\t\\t\\t\\t\\t \\t\\t1 Fish\\t\\t\\t\\t\\t\\t\\t \\t...   \n",
       "2  \\n\\n\\t\\t\\t\\t\\t\\t\\t \\t\\t300 grams Colocasia roo...   \n",
       "3  \\n\\n\\t\\t\\t\\t\\t\\t\\t \\t\\t5 Brinjal (Baingan / Eg...   \n",
       "4  \\n\\n\\t\\t\\t\\t\\t\\t\\t \\t\\t1 cup Mango (Raw)\\t\\t\\t...   \n",
       "\n",
       "                                        instructions  \n",
       "0  To begin making the Doddapatre Tambuli, first ...  \n",
       "1  To begin making the Fish Tandoori recipe, keep...  \n",
       "2  To begin making the Arbi Shimla Mirch Sabzi Re...  \n",
       "3  To begin making the Ambur Style Brinjal Curry ...  \n",
       "4  To begin making Mangalorean Mavinakayi Menasin...  "
      ]
     },
     "execution_count": 94,
     "metadata": {},
     "output_type": "execute_result"
    }
   ],
   "source": [
    "df1.head()"
   ]
  },
  {
   "cell_type": "code",
   "execution_count": 95,
   "metadata": {},
   "outputs": [
    {
     "data": {
      "text/plain": [
       "Indian                       864\n",
       "North Indian Recipes         848\n",
       "South Indian Recipes         660\n",
       "Bengali Recipes              174\n",
       "Kerala Recipes               170\n",
       "Tamil Nadu                   169\n",
       "Maharashtrian Recipes        148\n",
       "Karnataka                    135\n",
       "Gujarati Recipes﻿            127\n",
       "Andhra                       124\n",
       "Rajasthani                   122\n",
       "Goan Recipes                  89\n",
       "Punjabi                       86\n",
       "Chettinad                     69\n",
       "Kashmiri                      59\n",
       "Mangalorean                   44\n",
       "Awadhi                        40\n",
       "Parsi Recipes                 38\n",
       "Sindhi                        31\n",
       "Mughlai                       31\n",
       "Konkan                        31\n",
       "Hyderabadi                    30\n",
       "Oriya Recipes                 30\n",
       "Assamese                      26\n",
       "Bihari                        24\n",
       "North East India Recipes      20\n",
       "Himachal                      19\n",
       "Fusion                        16\n",
       "North Karnataka               15\n",
       "Coorg                         15\n",
       "Coastal Karnataka             15\n",
       "Udupi                         12\n",
       "Pakistani                     11\n",
       "Malabar                       11\n",
       "Uttar Pradesh                 11\n",
       "South Karnataka               10\n",
       "Lucknowi                       9\n",
       "Middle Eastern                 8\n",
       "Malvani                        8\n",
       "Sri Lankan                     8\n",
       "Asian                          7\n",
       "Indo Chinese                   5\n",
       "Nepalese                       5\n",
       "Continental                    5\n",
       "Nagaland                       5\n",
       "Uttarakhand-North Kumaon       4\n",
       "Haryana                        3\n",
       "Kongunadu                      3\n",
       "Chinese                        2\n",
       "Jharkhand                      2\n",
       "Thai                           1\n",
       "Arab                           1\n",
       "Afghan                         1\n",
       "Sichuan                        1\n",
       "Name: cuisine, dtype: int64"
      ]
     },
     "execution_count": 95,
     "metadata": {},
     "output_type": "execute_result"
    }
   ],
   "source": [
    "df1['cuisine'].value_counts()"
   ]
  },
  {
   "cell_type": "code",
   "execution_count": 96,
   "metadata": {},
   "outputs": [
    {
     "data": {
      "text/plain": [
       "Lunch                     1737\n",
       "Side Dish                  904\n",
       "Dinner                     483\n",
       "Dessert                    388\n",
       "South Indian Breakfast     278\n",
       "Main Course                198\n",
       "North Indian Breakfast     125\n",
       "Appetizer                   91\n",
       "Indian Breakfast            85\n",
       "Snack                       84\n",
       "One Pot Dish                20\n",
       "World Breakfast              8\n",
       "Brunch                       1\n",
       "Name: course, dtype: int64"
      ]
     },
     "execution_count": 96,
     "metadata": {},
     "output_type": "execute_result"
    }
   ],
   "source": [
    "df1['course'].value_counts()"
   ]
  },
  {
   "cell_type": "code",
   "execution_count": 97,
   "metadata": {},
   "outputs": [
    {
     "data": {
      "text/plain": [
       "Vegetarian                      2995\n",
       "High Protein Vegetarian          539\n",
       "Diabetic Friendly                253\n",
       "Non Vegeterian                   250\n",
       "High Protein Non Vegetarian      141\n",
       "Eggetarian                        96\n",
       "No Onion No Garlic (Sattvic)      63\n",
       "Gluten Free                       38\n",
       "Vegan                             27\n",
       "Name: diet, dtype: int64"
      ]
     },
     "execution_count": 97,
     "metadata": {},
     "output_type": "execute_result"
    }
   ],
   "source": [
    "df1['diet'].value_counts()"
   ]
  },
  {
   "cell_type": "code",
   "execution_count": 98,
   "metadata": {},
   "outputs": [
    {
     "data": {
      "text/plain": [
       "Total in 40 M     699\n",
       "Total in 30 M     575\n",
       "Total in 50 M     495\n",
       "Total in 45 M     374\n",
       "Total in 35 M     373\n",
       "                 ... \n",
       "Total in 535 M      1\n",
       "Total in 430 M      1\n",
       "Total in 630 M      1\n",
       "Total in 52 M       1\n",
       "Total in 235 M      1\n",
       "Name: prep_time, Length: 120, dtype: int64"
      ]
     },
     "execution_count": 98,
     "metadata": {},
     "output_type": "execute_result"
    }
   ],
   "source": [
    "df1['prep_time'].value_counts()"
   ]
  },
  {
   "cell_type": "code",
   "execution_count": 99,
   "metadata": {},
   "outputs": [
    {
     "data": {
      "text/plain": [
       "'\\n\\n\\t\\t\\t\\t\\t\\t\\t \\t\\t4 cups Indian borage (Doddapatre)\\t\\t\\t\\t\\t\\t\\t \\t\\t, cleaned and washed\\t\\t\\t\\t\\t\\t\\t \\t\\n\\n\\t\\t\\t\\t\\t\\t\\t \\t\\t1/2 cup Curd (Dahi / Yogurt) \\n\\n\\t\\t\\t\\t\\t\\t\\t \\t\\t1 tablespoon Cumin seeds (Jeera) \\n\\n\\t\\t\\t\\t\\t\\t\\t \\t\\t1/2 teaspoon Whole Black Peppercorns \\n\\n\\t\\t\\t\\t\\t\\t\\t \\t\\t1/4 cup Dessicated Coconut \\n\\nSalt\\t\\t\\t\\t\\t\\t\\t \\t\\t, to taste\\t\\t\\t\\t\\t\\t\\t \\t\\n\\n\\t\\t\\t\\t\\t\\t\\t \\t\\t2 tablespoons Ghee \\n'"
      ]
     },
     "execution_count": 99,
     "metadata": {},
     "output_type": "execute_result"
    }
   ],
   "source": [
    "df1['ingredients'][0]"
   ]
  },
  {
   "cell_type": "code",
   "execution_count": 100,
   "metadata": {},
   "outputs": [
    {
     "data": {
      "text/plain": [
       "0    [4 cups Indian borage (Doddapatre), cleaned an...\n",
       "1    [1 Fish, nicely washed with bones on (I used P...\n",
       "2    [300 grams Colocasia root (Arbi) 1 Green Bell ...\n",
       "3    [5 Brinjal (Baingan / Eggplant) 1 Onion 2 Toma...\n",
       "4    [1 cup Mango (Raw), diced 2 tablespoons Jagger...\n",
       "Name: ingredients, dtype: object"
      ]
     },
     "execution_count": 100,
     "metadata": {},
     "output_type": "execute_result"
    }
   ],
   "source": [
    "for index, data in df1['ingredients'].iteritems():\n",
    "    # Modify the value\n",
    "    data = data.strip()\n",
    "\n",
    "    # Remove newlines and tabs\n",
    "    data = data.replace('\\n', '').replace('\\t', '')\n",
    "\n",
    "    # Remove extra spaces\n",
    "    data = ' '.join(data.split())\n",
    "\n",
    "    # Split the data by commas\n",
    "    ingredients = data.split(',')\n",
    "\n",
    "    # Remove leading and trailing whitespaces from each ingredient\n",
    "    ingredients = [ingredient.strip() for ingredient in ingredients]\n",
    "\n",
    "    df1.at[index, 'ingredients'] = ingredients\n",
    "df1['ingredients'].head()"
   ]
  },
  {
   "cell_type": "code",
   "execution_count": 102,
   "metadata": {},
   "outputs": [
    {
     "data": {
      "text/plain": [
       "['1 Fish',\n",
       " 'nicely washed with bones on (I used Pompano) For marination 2 tablespoons Curd (Dahi / Yogurt) 1/4 cup Onions',\n",
       " 'finely chopped 2 Green Chillies',\n",
       " 'chopped 1 tablespoon Tandoori masala 1 teaspoon Ginger Garlic Paste 1 teaspoon Red Chilli powder 1 teaspoon Garam masala powder 1 teaspoon Coriander Powder (Dhania) 1/2 teaspoon Cumin powder (Jeera) 1 tablespoon Coriander (Dhania) Leaves',\n",
       " 'finely chopped 1 tablespoon Oil Salt',\n",
       " 'to taste']"
      ]
     },
     "execution_count": 102,
     "metadata": {},
     "output_type": "execute_result"
    }
   ],
   "source": [
    "df1['ingredients'][1]"
   ]
  },
  {
   "cell_type": "code",
   "execution_count": null,
   "metadata": {},
   "outputs": [],
   "source": []
  }
 ],
 "metadata": {
  "kernelspec": {
   "display_name": "Python 3",
   "language": "python",
   "name": "python3"
  },
  "language_info": {
   "codemirror_mode": {
    "name": "ipython",
    "version": 3
   },
   "file_extension": ".py",
   "mimetype": "text/x-python",
   "name": "python",
   "nbconvert_exporter": "python",
   "pygments_lexer": "ipython3",
   "version": "3.10.0"
  },
  "orig_nbformat": 4
 },
 "nbformat": 4,
 "nbformat_minor": 2
}
